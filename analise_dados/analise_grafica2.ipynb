{
  "cells": [
    {
      "cell_type": "code",
      "execution_count": null,
      "metadata": {
        "id": "qrTQfMjhzNcH",
        "outputId": "93078d1c-44e3-436c-9ed7-ec0603ab3199"
      },
      "outputs": [
        {
          "name": "stderr",
          "output_type": "stream",
          "text": [
            "22/01/19 16:24:12 WARN Utils: Your hostname, edudev resolves to a loopback address: 127.0.0.1; using 192.168.1.35 instead (on interface wlan0)\n",
            "22/01/19 16:24:12 WARN Utils: Set SPARK_LOCAL_IP if you need to bind to another address\n",
            "WARNING: An illegal reflective access operation has occurred\n",
            "WARNING: Illegal reflective access by org.apache.spark.unsafe.Platform (file:/opt/spark/jars/spark-unsafe_2.12-3.1.1.jar) to constructor java.nio.DirectByteBuffer(long,int)\n",
            "WARNING: Please consider reporting this to the maintainers of org.apache.spark.unsafe.Platform\n",
            "WARNING: Use --illegal-access=warn to enable warnings of further illegal reflective access operations\n",
            "WARNING: All illegal access operations will be denied in a future release\n"
          ]
        },
        {
          "name": "stdout",
          "output_type": "stream",
          "text": [
            ":: loading settings :: url = jar:file:/opt/spark/jars/ivy-2.4.0.jar!/org/apache/ivy/core/settings/ivysettings.xml\n"
          ]
        },
        {
          "name": "stderr",
          "output_type": "stream",
          "text": [
            "Ivy Default Cache set to: /home/edudev/.ivy2/cache\n",
            "The jars for the packages stored in: /home/edudev/.ivy2/jars\n",
            "com.datastax.spark#spark-cassandra-connector_2.12 added as a dependency\n",
            ":: resolving dependencies :: org.apache.spark#spark-submit-parent-4e3be115-f058-4c81-ac5a-2b1f6303df99;1.0\n",
            "\tconfs: [default]\n",
            "\tfound com.datastax.spark#spark-cassandra-connector_2.12;3.1.0 in central\n",
            "\tfound com.datastax.spark#spark-cassandra-connector-driver_2.12;3.1.0 in central\n",
            "\tfound com.datastax.oss#java-driver-core-shaded;4.12.0 in central\n",
            "\tfound com.datastax.oss#native-protocol;1.5.0 in central\n",
            "\tfound com.datastax.oss#java-driver-shaded-guava;25.1-jre-graal-sub-1 in central\n",
            "\tfound com.typesafe#config;1.4.1 in central\n",
            "\tfound org.slf4j#slf4j-api;1.7.26 in central\n",
            "\tfound io.dropwizard.metrics#metrics-core;4.1.18 in central\n",
            "\tfound org.hdrhistogram#HdrHistogram;2.1.12 in central\n",
            "\tfound org.reactivestreams#reactive-streams;1.0.3 in central\n",
            "\tfound com.github.stephenc.jcip#jcip-annotations;1.0-1 in central\n",
            "\tfound com.github.spotbugs#spotbugs-annotations;3.1.12 in central\n",
            "\tfound com.google.code.findbugs#jsr305;3.0.2 in central\n",
            "\tfound com.datastax.oss#java-driver-mapper-runtime;4.12.0 in central\n",
            "\tfound com.datastax.oss#java-driver-query-builder;4.12.0 in central\n",
            "\tfound org.apache.commons#commons-lang3;3.10 in central\n",
            "\tfound com.thoughtworks.paranamer#paranamer;2.8 in central\n",
            "\tfound org.scala-lang#scala-reflect;2.12.11 in central\n",
            ":: resolution report :: resolve 704ms :: artifacts dl 76ms\n",
            "\t:: modules in use:\n",
            "\tcom.datastax.oss#java-driver-core-shaded;4.12.0 from central in [default]\n",
            "\tcom.datastax.oss#java-driver-mapper-runtime;4.12.0 from central in [default]\n",
            "\tcom.datastax.oss#java-driver-query-builder;4.12.0 from central in [default]\n",
            "\tcom.datastax.oss#java-driver-shaded-guava;25.1-jre-graal-sub-1 from central in [default]\n",
            "\tcom.datastax.oss#native-protocol;1.5.0 from central in [default]\n",
            "\tcom.datastax.spark#spark-cassandra-connector-driver_2.12;3.1.0 from central in [default]\n",
            "\tcom.datastax.spark#spark-cassandra-connector_2.12;3.1.0 from central in [default]\n",
            "\tcom.github.spotbugs#spotbugs-annotations;3.1.12 from central in [default]\n",
            "\tcom.github.stephenc.jcip#jcip-annotations;1.0-1 from central in [default]\n",
            "\tcom.google.code.findbugs#jsr305;3.0.2 from central in [default]\n",
            "\tcom.thoughtworks.paranamer#paranamer;2.8 from central in [default]\n",
            "\tcom.typesafe#config;1.4.1 from central in [default]\n",
            "\tio.dropwizard.metrics#metrics-core;4.1.18 from central in [default]\n",
            "\torg.apache.commons#commons-lang3;3.10 from central in [default]\n",
            "\torg.hdrhistogram#HdrHistogram;2.1.12 from central in [default]\n",
            "\torg.reactivestreams#reactive-streams;1.0.3 from central in [default]\n",
            "\torg.scala-lang#scala-reflect;2.12.11 from central in [default]\n",
            "\torg.slf4j#slf4j-api;1.7.26 from central in [default]\n",
            "\t---------------------------------------------------------------------\n",
            "\t|                  |            modules            ||   artifacts   |\n",
            "\t|       conf       | number| search|dwnlded|evicted|| number|dwnlded|\n",
            "\t---------------------------------------------------------------------\n",
            "\t|      default     |   18  |   0   |   0   |   0   ||   18  |   0   |\n",
            "\t---------------------------------------------------------------------\n",
            ":: retrieving :: org.apache.spark#spark-submit-parent-4e3be115-f058-4c81-ac5a-2b1f6303df99\n",
            "\tconfs: [default]\n",
            "\t0 artifacts copied, 18 already retrieved (0kB/16ms)\n",
            "22/01/19 16:24:14 WARN NativeCodeLoader: Unable to load native-hadoop library for your platform... using builtin-java classes where applicable\n",
            "Using Spark's default log4j profile: org/apache/spark/log4j-defaults.properties\n",
            "Setting default log level to \"WARN\".\n",
            "To adjust logging level use sc.setLogLevel(newLevel). For SparkR, use setLogLevel(newLevel).\n"
          ]
        }
      ],
      "source": [
        "from pyspark.sql import SparkSession\n",
        "import matplotlib.pyplot as plt\n",
        "import numpy as np\n",
        "import pandas as pd\n",
        "import seaborn as sns\n",
        "spark = SparkSession\\\n",
        ".builder.appName(\"Spark Cassandra\").config(\"spark.cassandra.connection.host\",\"172.17.0.3\")\\\n",
        ".config(\"spark.cassandra.connection.port\",\"9042\")\\\n",
        ".config(\"spark.jars.packages\", \"com.datastax.spark:spark-cassandra-connector_2.12:3.1.0\")\\\n",
        ".config(\"spark.sql.extensions\",\"com.datastax.spark.connector.CassandraSparkExtensions\")\\\n",
        ".getOrCreate()\n",
        "keyspace = \"desafio_final\"\n",
        "def loadData(table):\n",
        "    df = spark.read \\\n",
        "        .format(\"org.apache.spark.sql.cassandra\") \\\n",
        "        .option(\"keyspace\", keyspace) \\\n",
        "        .option(\"table\", table) \\\n",
        "        .load()\n",
        "    return df\n"
      ]
    },
    {
      "cell_type": "code",
      "execution_count": null,
      "metadata": {
        "id": "PBNb-WB3zNcP"
      },
      "outputs": [],
      "source": [
        "total_exportacao = loadData('total_exportacao')\n",
        "uf_exportacao = loadData('exportacao_estado')\n",
        "pais_exportacao = loadData('exportacao_pais')\n",
        "evoucao_pib = pd.read_csv(\"/home/edudev/Documents/trabalho_final/modules/csv/evolucao_do_pib.csv\")"
      ]
    },
    {
      "cell_type": "code",
      "execution_count": null,
      "metadata": {
        "id": "677UsYsTzNcQ",
        "outputId": "e8cbeb66-70b2-4595-db0f-5590edfec72e"
      },
      "outputs": [
        {
          "name": "stderr",
          "output_type": "stream",
          "text": [
            "                                                                                \r"
          ]
        }
      ],
      "source": [
        "uf_pandas = uf_exportacao.toPandas()\n",
        "agrupando = uf_pandas.groupby('estado').sum()"
      ]
    },
    {
      "cell_type": "code",
      "execution_count": null,
      "metadata": {
        "id": "z1pJwo_QzNcR"
      },
      "outputs": [],
      "source": [
        "valor = uf_pandas.valor_estado.tolist()"
      ]
    },
    {
      "cell_type": "code",
      "execution_count": null,
      "metadata": {
        "id": "4xS-6sllzNcS"
      },
      "outputs": [],
      "source": [
        "estado = uf_pandas.estado.tolist()"
      ]
    },
    {
      "cell_type": "code",
      "execution_count": null,
      "metadata": {
        "id": "ergLp_ZazNcS"
      },
      "outputs": [],
      "source": [
        "pais_exportacao = pais_exportacao.toPandas()"
      ]
    },
    {
      "cell_type": "code",
      "execution_count": null,
      "metadata": {
        "id": "JSG2KiHMzNcT"
      },
      "outputs": [],
      "source": [
        "pib_agricola = loadData('pib_agricola')"
      ]
    },
    {
      "cell_type": "code",
      "execution_count": null,
      "metadata": {
        "id": "Cn7c3JcmzNcT"
      },
      "outputs": [],
      "source": [
        "pib_agricola = pib_agricola.toPandas()"
      ]
    },
    {
      "cell_type": "code",
      "execution_count": null,
      "metadata": {
        "id": "HlvbtP1LzNcV"
      },
      "outputs": [],
      "source": [
        "pib_agricola_total = pib_agricola.sort_values('ano_pib')"
      ]
    },
    {
      "cell_type": "code",
      "execution_count": null,
      "metadata": {
        "id": "IHZO59DQzNcV"
      },
      "outputs": [],
      "source": [
        "pib_ano = evoucao_pib[['Ano', 'Produto interno bruto em R$ do último ano - R$ (PIB REAL EM R$ DE 2020) Fonte: IBGE']]"
      ]
    },
    {
      "cell_type": "code",
      "execution_count": null,
      "metadata": {
        "id": "IcS_JMXIzNcW"
      },
      "outputs": [],
      "source": [
        "pib_ano = pib_ano[pib_ano['Ano'] >= 1996]"
      ]
    },
    {
      "cell_type": "code",
      "execution_count": null,
      "metadata": {
        "id": "Pf6NRcB5zNcW"
      },
      "outputs": [],
      "source": [
        "pib_ano['Produto interno bruto em R$ do último ano - R$ (PIB REAL EM R$ DE 2020) Fonte: IBGE'] = pib_ano['Produto interno bruto em R$ do último ano - R$ (PIB REAL EM R$ DE 2020) Fonte: IBGE'].apply(lambda x: x.replace(',', '')).astype('float')"
      ]
    },
    {
      "cell_type": "code",
      "execution_count": null,
      "metadata": {
        "id": "jMuzsVdvzNcX"
      },
      "outputs": [],
      "source": [
        "lista_total = pib_agricola_total.total.tolist()"
      ]
    },
    {
      "cell_type": "code",
      "execution_count": null,
      "metadata": {
        "id": "n6PFVxMvzNcX"
      },
      "outputs": [],
      "source": [
        "lista_total_pib = pib_ano['Produto interno bruto em R$ do último ano - R$ (PIB REAL EM R$ DE 2020) Fonte: IBGE'].tolist()"
      ]
    },
    {
      "cell_type": "code",
      "execution_count": null,
      "metadata": {
        "id": "usZN9q8CzNcY"
      },
      "outputs": [],
      "source": [
        "lista_prc = list(zip(lista_total, lista_total_pib))\n",
        "    "
      ]
    },
    {
      "cell_type": "code",
      "execution_count": null,
      "metadata": {
        "id": "H-QSIk9BzNcY",
        "outputId": "8ef254ff-1aad-4804-9b8f-b063f9667895"
      },
      "outputs": [
        {
          "data": {
            "text/plain": [
              "[(1267191906304.0, 4643132367480.07),\n",
              " (1172400111616.0, 4800759560250.37),\n",
              " (1127753711616.0, 4816990827601.35),\n",
              " (1123009167360.0, 4839531337267.2),\n",
              " (1216313425920.0, 5051887525656.03),\n",
              " (1185493811200.0, 5122103528732.39),\n",
              " (1258876305408.0, 5278505006249.9),\n",
              " (1298778161152.0, 5338723722062.77),\n",
              " (1219754983424.0, 5646232320513.25),\n",
              " (1111920082944.0, 5827032097421.23),\n",
              " (1155873898496.0, 6057898452028.0),\n",
              " (1118227791872.0, 6425605049579.94),\n",
              " (1122483830784.0, 6752937929471.98),\n",
              " (1068085608448.0, 6744441923230.93),\n",
              " (1148271198208.0, 7252178742210.89),\n",
              " (1186743713792.0, 7540411007904.06),\n",
              " (1136706715648.0, 7685275573365.35),\n",
              " (1091547037696.0, 7916204476067.99),\n",
              " (1039518990336.0, 7956098642936.9),\n",
              " (1070601863168.0, 7673994209707.05),\n",
              " (1177935675392.0, 7422600536001.16),\n",
              " (1108802666496.0, 7520791821487.14),\n",
              " (1140311982080.0, 7654937685398.82),\n",
              " (1108369997824.0, 7762960567051.58),\n",
              " (1376595738624.0, 7447858250246.4)]"
            ]
          },
          "execution_count": 16,
          "metadata": {},
          "output_type": "execute_result"
        }
      ],
      "source": [
        "lista_prc"
      ]
    },
    {
      "cell_type": "code",
      "execution_count": null,
      "metadata": {
        "id": "V_Qx1v4ozNcY"
      },
      "outputs": [],
      "source": [
        "pronto = [x[0]/x[1] for x in lista_prc]"
      ]
    },
    {
      "cell_type": "code",
      "execution_count": null,
      "metadata": {
        "id": "ImvFd5vwzNcZ"
      },
      "outputs": [],
      "source": [
        "new_pronto = [x*100 for x in pronto]"
      ]
    },
    {
      "cell_type": "code",
      "execution_count": null,
      "metadata": {
        "id": "ndUuCtL8zNcZ",
        "outputId": "93932db3-71e0-44ab-c9a1-1c03a09677df"
      },
      "outputs": [
        {
          "data": {
            "text/plain": [
              "[27.29174630426771,\n",
              " 24.421137882499092,\n",
              " 23.411996243670906,\n",
              " 23.204915705621694,\n",
              " 24.07641539410661,\n",
              " 23.144667118694187,\n",
              " 23.849106970959667,\n",
              " 24.327502765964066,\n",
              " 21.60298964306737,\n",
              " 19.082099846954392,\n",
              " 19.08044361669761,\n",
              " 17.402684778223364,\n",
              " 16.622155312358515,\n",
              " 15.836530592235166,\n",
              " 15.833465211282693,\n",
              " 15.73844864090331,\n",
              " 14.790708606304939,\n",
              " 13.788767596844288,\n",
              " 13.065687556034044,\n",
              " 13.951038193562432,\n",
              " 15.869581956873017,\n",
              " 14.743163922289614,\n",
              " 14.896424098331376,\n",
              " 14.277671363271727,\n",
              " 18.483108732345404]"
            ]
          },
          "execution_count": 20,
          "metadata": {},
          "output_type": "execute_result"
        }
      ],
      "source": [
        "new_pronto"
      ]
    },
    {
      "cell_type": "code",
      "execution_count": null,
      "metadata": {
        "id": "__8oCLj7zNcZ"
      },
      "outputs": [],
      "source": [
        "anos = pib_ano.Ano.tolist()"
      ]
    },
    {
      "cell_type": "code",
      "execution_count": null,
      "metadata": {
        "id": "wv4tUhJgzNcZ"
      },
      "outputs": [],
      "source": [
        "df = pd.DataFrame(new_pronto, anos)"
      ]
    },
    {
      "cell_type": "code",
      "execution_count": null,
      "metadata": {
        "id": "Y4zafBL6zNca",
        "outputId": "7195922b-c1c6-4fbb-c693-cdba5290e17d"
      },
      "outputs": [
        {
          "data": {
            "text/html": [
              "<div>\n",
              "<style scoped>\n",
              "    .dataframe tbody tr th:only-of-type {\n",
              "        vertical-align: middle;\n",
              "    }\n",
              "\n",
              "    .dataframe tbody tr th {\n",
              "        vertical-align: top;\n",
              "    }\n",
              "\n",
              "    .dataframe thead th {\n",
              "        text-align: right;\n",
              "    }\n",
              "</style>\n",
              "<table border=\"1\" class=\"dataframe\">\n",
              "  <thead>\n",
              "    <tr style=\"text-align: right;\">\n",
              "      <th></th>\n",
              "      <th>0</th>\n",
              "      <th>aumento</th>\n",
              "    </tr>\n",
              "  </thead>\n",
              "  <tbody>\n",
              "    <tr>\n",
              "      <th>1996</th>\n",
              "      <td>27.291746</td>\n",
              "      <td>NaN</td>\n",
              "    </tr>\n",
              "    <tr>\n",
              "      <th>1997</th>\n",
              "      <td>24.421138</td>\n",
              "      <td>-2.870608</td>\n",
              "    </tr>\n",
              "    <tr>\n",
              "      <th>1998</th>\n",
              "      <td>23.411996</td>\n",
              "      <td>-1.009142</td>\n",
              "    </tr>\n",
              "    <tr>\n",
              "      <th>1999</th>\n",
              "      <td>23.204916</td>\n",
              "      <td>-0.207081</td>\n",
              "    </tr>\n",
              "    <tr>\n",
              "      <th>2000</th>\n",
              "      <td>24.076415</td>\n",
              "      <td>0.871500</td>\n",
              "    </tr>\n",
              "    <tr>\n",
              "      <th>2001</th>\n",
              "      <td>23.144667</td>\n",
              "      <td>-0.931748</td>\n",
              "    </tr>\n",
              "    <tr>\n",
              "      <th>2002</th>\n",
              "      <td>23.849107</td>\n",
              "      <td>0.704440</td>\n",
              "    </tr>\n",
              "    <tr>\n",
              "      <th>2003</th>\n",
              "      <td>24.327503</td>\n",
              "      <td>0.478396</td>\n",
              "    </tr>\n",
              "    <tr>\n",
              "      <th>2004</th>\n",
              "      <td>21.602990</td>\n",
              "      <td>-2.724513</td>\n",
              "    </tr>\n",
              "    <tr>\n",
              "      <th>2005</th>\n",
              "      <td>19.082100</td>\n",
              "      <td>-2.520890</td>\n",
              "    </tr>\n",
              "    <tr>\n",
              "      <th>2006</th>\n",
              "      <td>19.080444</td>\n",
              "      <td>-0.001656</td>\n",
              "    </tr>\n",
              "    <tr>\n",
              "      <th>2007</th>\n",
              "      <td>17.402685</td>\n",
              "      <td>-1.677759</td>\n",
              "    </tr>\n",
              "    <tr>\n",
              "      <th>2008</th>\n",
              "      <td>16.622155</td>\n",
              "      <td>-0.780529</td>\n",
              "    </tr>\n",
              "    <tr>\n",
              "      <th>2009</th>\n",
              "      <td>15.836531</td>\n",
              "      <td>-0.785625</td>\n",
              "    </tr>\n",
              "    <tr>\n",
              "      <th>2010</th>\n",
              "      <td>15.833465</td>\n",
              "      <td>-0.003065</td>\n",
              "    </tr>\n",
              "    <tr>\n",
              "      <th>2011</th>\n",
              "      <td>15.738449</td>\n",
              "      <td>-0.095017</td>\n",
              "    </tr>\n",
              "    <tr>\n",
              "      <th>2012</th>\n",
              "      <td>14.790709</td>\n",
              "      <td>-0.947740</td>\n",
              "    </tr>\n",
              "    <tr>\n",
              "      <th>2013</th>\n",
              "      <td>13.788768</td>\n",
              "      <td>-1.001941</td>\n",
              "    </tr>\n",
              "    <tr>\n",
              "      <th>2014</th>\n",
              "      <td>13.065688</td>\n",
              "      <td>-0.723080</td>\n",
              "    </tr>\n",
              "    <tr>\n",
              "      <th>2015</th>\n",
              "      <td>13.951038</td>\n",
              "      <td>0.885351</td>\n",
              "    </tr>\n",
              "    <tr>\n",
              "      <th>2016</th>\n",
              "      <td>15.869582</td>\n",
              "      <td>1.918544</td>\n",
              "    </tr>\n",
              "    <tr>\n",
              "      <th>2017</th>\n",
              "      <td>14.743164</td>\n",
              "      <td>-1.126418</td>\n",
              "    </tr>\n",
              "    <tr>\n",
              "      <th>2018</th>\n",
              "      <td>14.896424</td>\n",
              "      <td>0.153260</td>\n",
              "    </tr>\n",
              "    <tr>\n",
              "      <th>2019</th>\n",
              "      <td>14.277671</td>\n",
              "      <td>-0.618753</td>\n",
              "    </tr>\n",
              "    <tr>\n",
              "      <th>2020</th>\n",
              "      <td>18.483109</td>\n",
              "      <td>4.205437</td>\n",
              "    </tr>\n",
              "  </tbody>\n",
              "</table>\n",
              "</div>"
            ],
            "text/plain": [
              "              0   aumento\n",
              "1996  27.291746       NaN\n",
              "1997  24.421138 -2.870608\n",
              "1998  23.411996 -1.009142\n",
              "1999  23.204916 -0.207081\n",
              "2000  24.076415  0.871500\n",
              "2001  23.144667 -0.931748\n",
              "2002  23.849107  0.704440\n",
              "2003  24.327503  0.478396\n",
              "2004  21.602990 -2.724513\n",
              "2005  19.082100 -2.520890\n",
              "2006  19.080444 -0.001656\n",
              "2007  17.402685 -1.677759\n",
              "2008  16.622155 -0.780529\n",
              "2009  15.836531 -0.785625\n",
              "2010  15.833465 -0.003065\n",
              "2011  15.738449 -0.095017\n",
              "2012  14.790709 -0.947740\n",
              "2013  13.788768 -1.001941\n",
              "2014  13.065688 -0.723080\n",
              "2015  13.951038  0.885351\n",
              "2016  15.869582  1.918544\n",
              "2017  14.743164 -1.126418\n",
              "2018  14.896424  0.153260\n",
              "2019  14.277671 -0.618753\n",
              "2020  18.483109  4.205437"
            ]
          },
          "execution_count": 25,
          "metadata": {},
          "output_type": "execute_result"
        }
      ],
      "source": [
        "df"
      ]
    },
    {
      "cell_type": "code",
      "execution_count": null,
      "metadata": {
        "id": "JKm1m_U_zNca"
      },
      "outputs": [],
      "source": [
        "df['aumento'] = df.iloc[:, 0].diff()"
      ]
    },
    {
      "cell_type": "code",
      "execution_count": null,
      "metadata": {
        "id": "GyyZwB7dzNca"
      },
      "outputs": [],
      "source": [
        "agronegocio = [\n",
        "(1616874 *1000000),\n",
        "(1505175 *1000000),\n",
        "(1435570 *1000000), \n",
        "(1421945 *1000000), \n",
        "(1539513 *1000000),\n",
        "(1538459 *1000000), \n",
        "(1591306 *1000000), \n",
        "(1627168 *1000000),\n",
        "(1547103 *1000000), \n",
        "(1420506 *1000000), \n",
        "(1412271 *1000000), \n",
        "(1456450 *1000000),\n",
        "(1526127 *1000000), \n",
        "(1441569 *1000000), \n",
        "(1555643 *1000000), \n",
        "(1564622 *1000000),\n",
        "(1470846 *1000000), \n",
        "(1491316 *1000000), \n",
        "(1485433 *1000000), \n",
        "(1544899 *1000000),\n",
        "(1655064 *1000000), \n",
        "(1560824 *1000000), \n",
        "(1539078 *1000000), \n",
        "(1591927 *1000000), \n",
        "(1978894 *1000000)]"
      ]
    },
    {
      "cell_type": "code",
      "execution_count": null,
      "metadata": {
        "id": "QwRn-OfDzNcb",
        "outputId": "bc0ddbf2-103d-4cf5-cd2f-de527be622f1"
      },
      "outputs": [
        {
          "data": {
            "text/plain": [
              "1978894000000.0"
            ]
          },
          "execution_count": 33,
          "metadata": {},
          "output_type": "execute_result"
        }
      ],
      "source": [
        "1.978894e+12"
      ]
    },
    {
      "cell_type": "code",
      "execution_count": null,
      "metadata": {
        "id": "c0HBmpG7zNcb"
      },
      "outputs": [],
      "source": [
        "agronegocio_calculo = list(zip(agronegocio, lista_total_pib))"
      ]
    },
    {
      "cell_type": "code",
      "execution_count": null,
      "metadata": {
        "id": "Kd45B7pGzNcb"
      },
      "outputs": [],
      "source": [
        "prc_agronegocio = [x[0]/x[1] for x in agronegocio_calculo]"
      ]
    },
    {
      "cell_type": "code",
      "execution_count": null,
      "metadata": {
        "id": "KgXWNhJ7zNcb"
      },
      "outputs": [],
      "source": [
        "new_prc_agronegocio = [x*100 for x in prc_agronegocio]"
      ]
    },
    {
      "cell_type": "code",
      "execution_count": null,
      "metadata": {
        "id": "Pyj7w6MBzNcb"
      },
      "outputs": [],
      "source": [
        "df_agroneogcio = pd.DataFrame(new_prc_agronegocio, anos)"
      ]
    },
    {
      "cell_type": "code",
      "execution_count": null,
      "metadata": {
        "id": "fBOq25sQzNcc"
      },
      "outputs": [],
      "source": [
        "df_agroneogcio[\"aumento\"] = df_agroneogcio.iloc[:, 0].diff()"
      ]
    },
    {
      "cell_type": "code",
      "execution_count": null,
      "metadata": {
        "id": "g9ngGvxuzNcc",
        "outputId": "7c83eaf1-fcfd-45d6-a370-54287e78e461"
      },
      "outputs": [
        {
          "data": {
            "text/html": [
              "<div>\n",
              "<style scoped>\n",
              "    .dataframe tbody tr th:only-of-type {\n",
              "        vertical-align: middle;\n",
              "    }\n",
              "\n",
              "    .dataframe tbody tr th {\n",
              "        vertical-align: top;\n",
              "    }\n",
              "\n",
              "    .dataframe thead th {\n",
              "        text-align: right;\n",
              "    }\n",
              "</style>\n",
              "<table border=\"1\" class=\"dataframe\">\n",
              "  <thead>\n",
              "    <tr style=\"text-align: right;\">\n",
              "      <th></th>\n",
              "      <th>0</th>\n",
              "      <th>aumento</th>\n",
              "    </tr>\n",
              "  </thead>\n",
              "  <tbody>\n",
              "    <tr>\n",
              "      <th>1996</th>\n",
              "      <td>34.822914</td>\n",
              "      <td>NaN</td>\n",
              "    </tr>\n",
              "    <tr>\n",
              "      <th>1997</th>\n",
              "      <td>31.352851</td>\n",
              "      <td>-3.470063</td>\n",
              "    </tr>\n",
              "    <tr>\n",
              "      <th>1998</th>\n",
              "      <td>29.802216</td>\n",
              "      <td>-1.550635</td>\n",
              "    </tr>\n",
              "    <tr>\n",
              "      <th>1999</th>\n",
              "      <td>29.381874</td>\n",
              "      <td>-0.420342</td>\n",
              "    </tr>\n",
              "    <tr>\n",
              "      <th>2000</th>\n",
              "      <td>30.474016</td>\n",
              "      <td>1.092142</td>\n",
              "    </tr>\n",
              "    <tr>\n",
              "      <th>2001</th>\n",
              "      <td>30.035687</td>\n",
              "      <td>-0.438328</td>\n",
              "    </tr>\n",
              "    <tr>\n",
              "      <th>2002</th>\n",
              "      <td>30.146907</td>\n",
              "      <td>0.111220</td>\n",
              "    </tr>\n",
              "    <tr>\n",
              "      <th>2003</th>\n",
              "      <td>30.478595</td>\n",
              "      <td>0.331688</td>\n",
              "    </tr>\n",
              "    <tr>\n",
              "      <th>2004</th>\n",
              "      <td>27.400626</td>\n",
              "      <td>-3.077969</td>\n",
              "    </tr>\n",
              "    <tr>\n",
              "      <th>2005</th>\n",
              "      <td>24.377865</td>\n",
              "      <td>-3.022761</td>\n",
              "    </tr>\n",
              "    <tr>\n",
              "      <th>2006</th>\n",
              "      <td>23.312887</td>\n",
              "      <td>-1.064978</td>\n",
              "    </tr>\n",
              "    <tr>\n",
              "      <th>2007</th>\n",
              "      <td>22.666348</td>\n",
              "      <td>-0.646539</td>\n",
              "    </tr>\n",
              "    <tr>\n",
              "      <th>2008</th>\n",
              "      <td>22.599453</td>\n",
              "      <td>-0.066895</td>\n",
              "    </tr>\n",
              "    <tr>\n",
              "      <th>2009</th>\n",
              "      <td>21.374178</td>\n",
              "      <td>-1.225275</td>\n",
              "    </tr>\n",
              "    <tr>\n",
              "      <th>2010</th>\n",
              "      <td>21.450699</td>\n",
              "      <td>0.076521</td>\n",
              "    </tr>\n",
              "    <tr>\n",
              "      <th>2011</th>\n",
              "      <td>20.749824</td>\n",
              "      <td>-0.700875</td>\n",
              "    </tr>\n",
              "    <tr>\n",
              "      <th>2012</th>\n",
              "      <td>19.138494</td>\n",
              "      <td>-1.611330</td>\n",
              "    </tr>\n",
              "    <tr>\n",
              "      <th>2013</th>\n",
              "      <td>18.838776</td>\n",
              "      <td>-0.299718</td>\n",
              "    </tr>\n",
              "    <tr>\n",
              "      <th>2014</th>\n",
              "      <td>18.670369</td>\n",
              "      <td>-0.168406</td>\n",
              "    </tr>\n",
              "    <tr>\n",
              "      <th>2015</th>\n",
              "      <td>20.131615</td>\n",
              "      <td>1.461246</td>\n",
              "    </tr>\n",
              "    <tr>\n",
              "      <th>2016</th>\n",
              "      <td>22.297630</td>\n",
              "      <td>2.166015</td>\n",
              "    </tr>\n",
              "    <tr>\n",
              "      <th>2017</th>\n",
              "      <td>20.753453</td>\n",
              "      <td>-1.544177</td>\n",
              "    </tr>\n",
              "    <tr>\n",
              "      <th>2018</th>\n",
              "      <td>20.105689</td>\n",
              "      <td>-0.647764</td>\n",
              "    </tr>\n",
              "    <tr>\n",
              "      <th>2019</th>\n",
              "      <td>20.506700</td>\n",
              "      <td>0.401010</td>\n",
              "    </tr>\n",
              "    <tr>\n",
              "      <th>2020</th>\n",
              "      <td>26.569974</td>\n",
              "      <td>6.063274</td>\n",
              "    </tr>\n",
              "  </tbody>\n",
              "</table>\n",
              "</div>"
            ],
            "text/plain": [
              "              0   aumento\n",
              "1996  34.822914       NaN\n",
              "1997  31.352851 -3.470063\n",
              "1998  29.802216 -1.550635\n",
              "1999  29.381874 -0.420342\n",
              "2000  30.474016  1.092142\n",
              "2001  30.035687 -0.438328\n",
              "2002  30.146907  0.111220\n",
              "2003  30.478595  0.331688\n",
              "2004  27.400626 -3.077969\n",
              "2005  24.377865 -3.022761\n",
              "2006  23.312887 -1.064978\n",
              "2007  22.666348 -0.646539\n",
              "2008  22.599453 -0.066895\n",
              "2009  21.374178 -1.225275\n",
              "2010  21.450699  0.076521\n",
              "2011  20.749824 -0.700875\n",
              "2012  19.138494 -1.611330\n",
              "2013  18.838776 -0.299718\n",
              "2014  18.670369 -0.168406\n",
              "2015  20.131615  1.461246\n",
              "2016  22.297630  2.166015\n",
              "2017  20.753453 -1.544177\n",
              "2018  20.105689 -0.647764\n",
              "2019  20.506700  0.401010\n",
              "2020  26.569974  6.063274"
            ]
          },
          "execution_count": 32,
          "metadata": {},
          "output_type": "execute_result"
        }
      ],
      "source": [
        "df_agroneogcio"
      ]
    },
    {
      "cell_type": "code",
      "execution_count": null,
      "metadata": {
        "id": "fLRJATuezNcc"
      },
      "outputs": [],
      "source": [
        "df_final = pd.DataFrame([anos, df.aumento, df_agroneogcio.aumento], columns=anos)"
      ]
    },
    {
      "cell_type": "code",
      "execution_count": null,
      "metadata": {
        "id": "gTOnVsuKzNcd"
      },
      "outputs": [],
      "source": [
        "df_final = df_final.T"
      ]
    },
    {
      "cell_type": "code",
      "execution_count": null,
      "metadata": {
        "id": "YbbMBjyfzNcd"
      },
      "outputs": [],
      "source": [
        "df_final.drop(0, axis=1, inplace=True)"
      ]
    },
    {
      "cell_type": "code",
      "execution_count": null,
      "metadata": {
        "id": "-o4U5DkpzNcd",
        "outputId": "ad1266bf-2288-41fe-a6c2-0076c3865c6f"
      },
      "outputs": [
        {
          "data": {
            "text/html": [
              "<div>\n",
              "<style scoped>\n",
              "    .dataframe tbody tr th:only-of-type {\n",
              "        vertical-align: middle;\n",
              "    }\n",
              "\n",
              "    .dataframe tbody tr th {\n",
              "        vertical-align: top;\n",
              "    }\n",
              "\n",
              "    .dataframe thead th {\n",
              "        text-align: right;\n",
              "    }\n",
              "</style>\n",
              "<table border=\"1\" class=\"dataframe\">\n",
              "  <thead>\n",
              "    <tr style=\"text-align: right;\">\n",
              "      <th></th>\n",
              "      <th>1</th>\n",
              "      <th>2</th>\n",
              "    </tr>\n",
              "  </thead>\n",
              "  <tbody>\n",
              "    <tr>\n",
              "      <th>1996</th>\n",
              "      <td>NaN</td>\n",
              "      <td>NaN</td>\n",
              "    </tr>\n",
              "    <tr>\n",
              "      <th>1997</th>\n",
              "      <td>-2.870608</td>\n",
              "      <td>-3.470063</td>\n",
              "    </tr>\n",
              "    <tr>\n",
              "      <th>1998</th>\n",
              "      <td>-1.009142</td>\n",
              "      <td>-1.550635</td>\n",
              "    </tr>\n",
              "    <tr>\n",
              "      <th>1999</th>\n",
              "      <td>-0.207081</td>\n",
              "      <td>-0.420342</td>\n",
              "    </tr>\n",
              "    <tr>\n",
              "      <th>2000</th>\n",
              "      <td>0.871500</td>\n",
              "      <td>1.092142</td>\n",
              "    </tr>\n",
              "    <tr>\n",
              "      <th>2001</th>\n",
              "      <td>-0.931748</td>\n",
              "      <td>-0.438328</td>\n",
              "    </tr>\n",
              "    <tr>\n",
              "      <th>2002</th>\n",
              "      <td>0.704440</td>\n",
              "      <td>0.111220</td>\n",
              "    </tr>\n",
              "    <tr>\n",
              "      <th>2003</th>\n",
              "      <td>0.478396</td>\n",
              "      <td>0.331688</td>\n",
              "    </tr>\n",
              "    <tr>\n",
              "      <th>2004</th>\n",
              "      <td>-2.724513</td>\n",
              "      <td>-3.077969</td>\n",
              "    </tr>\n",
              "    <tr>\n",
              "      <th>2005</th>\n",
              "      <td>-2.520890</td>\n",
              "      <td>-3.022761</td>\n",
              "    </tr>\n",
              "    <tr>\n",
              "      <th>2006</th>\n",
              "      <td>-0.001656</td>\n",
              "      <td>-1.064978</td>\n",
              "    </tr>\n",
              "    <tr>\n",
              "      <th>2007</th>\n",
              "      <td>-1.677759</td>\n",
              "      <td>-0.646539</td>\n",
              "    </tr>\n",
              "    <tr>\n",
              "      <th>2008</th>\n",
              "      <td>-0.780529</td>\n",
              "      <td>-0.066895</td>\n",
              "    </tr>\n",
              "    <tr>\n",
              "      <th>2009</th>\n",
              "      <td>-0.785625</td>\n",
              "      <td>-1.225275</td>\n",
              "    </tr>\n",
              "    <tr>\n",
              "      <th>2010</th>\n",
              "      <td>-0.003065</td>\n",
              "      <td>0.076521</td>\n",
              "    </tr>\n",
              "    <tr>\n",
              "      <th>2011</th>\n",
              "      <td>-0.095017</td>\n",
              "      <td>-0.700875</td>\n",
              "    </tr>\n",
              "    <tr>\n",
              "      <th>2012</th>\n",
              "      <td>-0.947740</td>\n",
              "      <td>-1.611330</td>\n",
              "    </tr>\n",
              "    <tr>\n",
              "      <th>2013</th>\n",
              "      <td>-1.001941</td>\n",
              "      <td>-0.299718</td>\n",
              "    </tr>\n",
              "    <tr>\n",
              "      <th>2014</th>\n",
              "      <td>-0.723080</td>\n",
              "      <td>-0.168406</td>\n",
              "    </tr>\n",
              "    <tr>\n",
              "      <th>2015</th>\n",
              "      <td>0.885351</td>\n",
              "      <td>1.461246</td>\n",
              "    </tr>\n",
              "    <tr>\n",
              "      <th>2016</th>\n",
              "      <td>1.918544</td>\n",
              "      <td>2.166015</td>\n",
              "    </tr>\n",
              "    <tr>\n",
              "      <th>2017</th>\n",
              "      <td>-1.126418</td>\n",
              "      <td>-1.544177</td>\n",
              "    </tr>\n",
              "    <tr>\n",
              "      <th>2018</th>\n",
              "      <td>0.153260</td>\n",
              "      <td>-0.647764</td>\n",
              "    </tr>\n",
              "    <tr>\n",
              "      <th>2019</th>\n",
              "      <td>-0.618753</td>\n",
              "      <td>0.401010</td>\n",
              "    </tr>\n",
              "    <tr>\n",
              "      <th>2020</th>\n",
              "      <td>4.205437</td>\n",
              "      <td>6.063274</td>\n",
              "    </tr>\n",
              "  </tbody>\n",
              "</table>\n",
              "</div>"
            ],
            "text/plain": [
              "             1         2\n",
              "1996       NaN       NaN\n",
              "1997 -2.870608 -3.470063\n",
              "1998 -1.009142 -1.550635\n",
              "1999 -0.207081 -0.420342\n",
              "2000  0.871500  1.092142\n",
              "2001 -0.931748 -0.438328\n",
              "2002  0.704440  0.111220\n",
              "2003  0.478396  0.331688\n",
              "2004 -2.724513 -3.077969\n",
              "2005 -2.520890 -3.022761\n",
              "2006 -0.001656 -1.064978\n",
              "2007 -1.677759 -0.646539\n",
              "2008 -0.780529 -0.066895\n",
              "2009 -0.785625 -1.225275\n",
              "2010 -0.003065  0.076521\n",
              "2011 -0.095017 -0.700875\n",
              "2012 -0.947740 -1.611330\n",
              "2013 -1.001941 -0.299718\n",
              "2014 -0.723080 -0.168406\n",
              "2015  0.885351  1.461246\n",
              "2016  1.918544  2.166015\n",
              "2017 -1.126418 -1.544177\n",
              "2018  0.153260 -0.647764\n",
              "2019 -0.618753  0.401010\n",
              "2020  4.205437  6.063274"
            ]
          },
          "execution_count": 50,
          "metadata": {},
          "output_type": "execute_result"
        }
      ],
      "source": [
        "df_final"
      ]
    },
    {
      "cell_type": "code",
      "execution_count": null,
      "metadata": {
        "id": "WIIeUykKzNcd"
      },
      "outputs": [],
      "source": [
        "df_aumento_agro = df_final.iloc[:, 0].tolist()\n",
        "df_aumento_agronegocio = df_final.iloc[:, 1].tolist()\n",
        "anos = df_final.index"
      ]
    },
    {
      "cell_type": "code",
      "execution_count": null,
      "metadata": {
        "id": "oVPRxXB7zNce",
        "outputId": "4bab0f98-94f2-4e5f-be0d-a4e7e15e49a1"
      },
      "outputs": [
        {
          "data": {
            "text/plain": [
              "Text(0.5, 1.0, 'Crescimento do PIB: 1996-2020')"
            ]
          },
          "execution_count": 193,
          "metadata": {},
          "output_type": "execute_result"
        },
        {
          "data": {
            "image/png": "[encoded data removed]",
            "text/plain": [
              "<Figure size 1080x576 with 1 Axes>"
            ]
          },
          "metadata": {
            "needs_background": "light"
          },
          "output_type": "display_data"
        }
      ],
      "source": [
        "fig, ax = plt.subplots()\n",
        "df_final.plot(figsize=(15,8), kind='bar',legend=True, color=['red','green'], ax=ax, width = 0.75)\n",
        "ax.legend([\"Aumento Pib Agricola\", \"Aumento Pib Agronegocio\"]);\n",
        "ax.set_ylabel('Aumento do PIB %', fontsize=15)\n",
        "ax.set_title('Crescimento do PIB: 1996-2020', fontsize=30)"
      ]
    },
    {
      "cell_type": "code",
      "execution_count": null,
      "metadata": {
        "id": "GxSPOY_ZzNce"
      },
      "outputs": [],
      "source": [
        "#GRAFICO DE PIZZA EXPORTACAO PAISES"
      ]
    },
    {
      "cell_type": "code",
      "execution_count": null,
      "metadata": {
        "id": "5HBkWjwPzNce"
      },
      "outputs": [],
      "source": [
        "exportacao_paises = loadData('exportacao_pais')"
      ]
    },
    {
      "cell_type": "code",
      "execution_count": null,
      "metadata": {
        "id": "vL7VhKG9zNce"
      },
      "outputs": [],
      "source": [
        "exportacao_paises = exportacao_paises.toPandas()"
      ]
    },
    {
      "cell_type": "code",
      "execution_count": null,
      "metadata": {
        "id": "YUZPbmg9zNcf",
        "outputId": "4a8efe90-c4ae-42f0-ae37-ee1404fe796f"
      },
      "outputs": [
        {
          "data": {
            "text/html": [
              "<div>\n",
              "<style scoped>\n",
              "    .dataframe tbody tr th:only-of-type {\n",
              "        vertical-align: middle;\n",
              "    }\n",
              "\n",
              "    .dataframe tbody tr th {\n",
              "        vertical-align: top;\n",
              "    }\n",
              "\n",
              "    .dataframe thead th {\n",
              "        text-align: right;\n",
              "    }\n",
              "</style>\n",
              "<table border=\"1\" class=\"dataframe\">\n",
              "  <thead>\n",
              "    <tr style=\"text-align: right;\">\n",
              "      <th></th>\n",
              "      <th>pais_exportacao</th>\n",
              "      <th>ano_exportacao</th>\n",
              "      <th>valor_exportacao</th>\n",
              "    </tr>\n",
              "  </thead>\n",
              "  <tbody>\n",
              "    <tr>\n",
              "      <th>0</th>\n",
              "      <td>POLINESIA FRANC.</td>\n",
              "      <td>1997</td>\n",
              "      <td>532689.0</td>\n",
              "    </tr>\n",
              "    <tr>\n",
              "      <th>1</th>\n",
              "      <td>POLINESIA FRANC.</td>\n",
              "      <td>1998</td>\n",
              "      <td>619788.0</td>\n",
              "    </tr>\n",
              "    <tr>\n",
              "      <th>2</th>\n",
              "      <td>POLINESIA FRANC.</td>\n",
              "      <td>1999</td>\n",
              "      <td>316834.0</td>\n",
              "    </tr>\n",
              "    <tr>\n",
              "      <th>3</th>\n",
              "      <td>POLINESIA FRANC.</td>\n",
              "      <td>2000</td>\n",
              "      <td>219160.0</td>\n",
              "    </tr>\n",
              "    <tr>\n",
              "      <th>4</th>\n",
              "      <td>POLINESIA FRANC.</td>\n",
              "      <td>2001</td>\n",
              "      <td>202588.0</td>\n",
              "    </tr>\n",
              "    <tr>\n",
              "      <th>...</th>\n",
              "      <td>...</td>\n",
              "      <td>...</td>\n",
              "      <td>...</td>\n",
              "    </tr>\n",
              "    <tr>\n",
              "      <th>5645</th>\n",
              "      <td>FEROE,ILHAS</td>\n",
              "      <td>2017</td>\n",
              "      <td>0.0</td>\n",
              "    </tr>\n",
              "    <tr>\n",
              "      <th>5646</th>\n",
              "      <td>FEROE,ILHAS</td>\n",
              "      <td>2018</td>\n",
              "      <td>11247.0</td>\n",
              "    </tr>\n",
              "    <tr>\n",
              "      <th>5647</th>\n",
              "      <td>FEROE,ILHAS</td>\n",
              "      <td>2019</td>\n",
              "      <td>192.0</td>\n",
              "    </tr>\n",
              "    <tr>\n",
              "      <th>5648</th>\n",
              "      <td>FEROE,ILHAS</td>\n",
              "      <td>2020</td>\n",
              "      <td>140540.0</td>\n",
              "    </tr>\n",
              "    <tr>\n",
              "      <th>5649</th>\n",
              "      <td>FEROE,ILHAS</td>\n",
              "      <td>2021</td>\n",
              "      <td>149164.0</td>\n",
              "    </tr>\n",
              "  </tbody>\n",
              "</table>\n",
              "<p>5650 rows × 3 columns</p>\n",
              "</div>"
            ],
            "text/plain": [
              "       pais_exportacao ano_exportacao  valor_exportacao\n",
              "0     POLINESIA FRANC.           1997          532689.0\n",
              "1     POLINESIA FRANC.           1998          619788.0\n",
              "2     POLINESIA FRANC.           1999          316834.0\n",
              "3     POLINESIA FRANC.           2000          219160.0\n",
              "4     POLINESIA FRANC.           2001          202588.0\n",
              "...                ...            ...               ...\n",
              "5645       FEROE,ILHAS           2017               0.0\n",
              "5646       FEROE,ILHAS           2018           11247.0\n",
              "5647       FEROE,ILHAS           2019             192.0\n",
              "5648       FEROE,ILHAS           2020          140540.0\n",
              "5649       FEROE,ILHAS           2021          149164.0\n",
              "\n",
              "[5650 rows x 3 columns]"
            ]
          },
          "execution_count": 112,
          "metadata": {},
          "output_type": "execute_result"
        }
      ],
      "source": [
        "exportacao_paises"
      ]
    },
    {
      "cell_type": "code",
      "execution_count": null,
      "metadata": {
        "id": "pBVwNTjmzNcf",
        "outputId": "18bc175e-1cdb-4b9e-f4bd-30d7272b265a"
      },
      "outputs": [
        {
          "data": {
            "text/plain": [
              "(5650, 3)"
            ]
          },
          "execution_count": 113,
          "metadata": {},
          "output_type": "execute_result"
        }
      ],
      "source": [
        "exportacao_paises.shape"
      ]
    },
    {
      "cell_type": "code",
      "execution_count": null,
      "metadata": {
        "id": "TTuMrJ4tzNcf",
        "outputId": "ddcab748-b6b6-4e7c-9d28-45ef87e8bd27"
      },
      "outputs": [
        {
          "data": {
            "text/html": [
              "<div>\n",
              "<style scoped>\n",
              "    .dataframe tbody tr th:only-of-type {\n",
              "        vertical-align: middle;\n",
              "    }\n",
              "\n",
              "    .dataframe tbody tr th {\n",
              "        vertical-align: top;\n",
              "    }\n",
              "\n",
              "    .dataframe thead th {\n",
              "        text-align: right;\n",
              "    }\n",
              "</style>\n",
              "<table border=\"1\" class=\"dataframe\">\n",
              "  <thead>\n",
              "    <tr style=\"text-align: right;\">\n",
              "      <th></th>\n",
              "      <th>valor_exportacao</th>\n",
              "    </tr>\n",
              "    <tr>\n",
              "      <th>pais_exportacao</th>\n",
              "      <th></th>\n",
              "    </tr>\n",
              "  </thead>\n",
              "  <tbody>\n",
              "    <tr>\n",
              "      <th>UNIÃO EUROPEIA 27 - UE 27</th>\n",
              "      <td>3.717719e+11</td>\n",
              "    </tr>\n",
              "    <tr>\n",
              "      <th>CHINA</th>\n",
              "      <td>3.364726e+11</td>\n",
              "    </tr>\n",
              "    <tr>\n",
              "      <th>ESTADOS UNIDOS</th>\n",
              "      <td>1.441930e+11</td>\n",
              "    </tr>\n",
              "    <tr>\n",
              "      <th>RUSSIA,FED.DA</th>\n",
              "      <td>5.250603e+10</td>\n",
              "    </tr>\n",
              "    <tr>\n",
              "      <th>JAPAO</th>\n",
              "      <td>5.148357e+10</td>\n",
              "    </tr>\n",
              "    <tr>\n",
              "      <th>...</th>\n",
              "      <td>...</td>\n",
              "    </tr>\n",
              "    <tr>\n",
              "      <th>COCOS-KEELING,I.</th>\n",
              "      <td>1.916600e+04</td>\n",
              "    </tr>\n",
              "    <tr>\n",
              "      <th>HEARD E ILHAS MCDONALD, ILHA</th>\n",
              "      <td>8.312000e+03</td>\n",
              "    </tr>\n",
              "    <tr>\n",
              "      <th>S.PEDRO MIQUELON</th>\n",
              "      <td>2.295000e+03</td>\n",
              "    </tr>\n",
              "    <tr>\n",
              "      <th>PITCAIRN</th>\n",
              "      <td>1.071000e+03</td>\n",
              "    </tr>\n",
              "    <tr>\n",
              "      <th>BANCOS CENTRAIS</th>\n",
              "      <td>1.960000e+02</td>\n",
              "    </tr>\n",
              "  </tbody>\n",
              "</table>\n",
              "<p>226 rows × 1 columns</p>\n",
              "</div>"
            ],
            "text/plain": [
              "                              valor_exportacao\n",
              "pais_exportacao                               \n",
              "UNIÃO EUROPEIA 27 - UE 27         3.717719e+11\n",
              "CHINA                             3.364726e+11\n",
              "ESTADOS UNIDOS                    1.441930e+11\n",
              "RUSSIA,FED.DA                     5.250603e+10\n",
              "JAPAO                             5.148357e+10\n",
              "...                                        ...\n",
              "COCOS-KEELING,I.                  1.916600e+04\n",
              "HEARD E ILHAS MCDONALD, ILHA      8.312000e+03\n",
              "S.PEDRO MIQUELON                  2.295000e+03\n",
              "PITCAIRN                          1.071000e+03\n",
              "BANCOS CENTRAIS                   1.960000e+02\n",
              "\n",
              "[226 rows x 1 columns]"
            ]
          },
          "execution_count": 114,
          "metadata": {},
          "output_type": "execute_result"
        }
      ],
      "source": [
        "exportacao_paises.groupby('pais_exportacao').sum().sort_values(by='valor_exportacao', ascending=False)"
      ]
    },
    {
      "cell_type": "code",
      "execution_count": null,
      "metadata": {
        "id": "4B0ksUvbzNcf"
      },
      "outputs": [],
      "source": [
        "df_china = exportacao_paises[exportacao_paises['pais_exportacao'] == \"CHINA\"]"
      ]
    },
    {
      "cell_type": "code",
      "execution_count": null,
      "metadata": {
        "id": "utFqoOtAzNcf"
      },
      "outputs": [],
      "source": [
        "df_uk = exportacao_paises[exportacao_paises['pais_exportacao'] == \"UNIÃO EUROPEIA 27 - UE 27\"]"
      ]
    },
    {
      "cell_type": "code",
      "execution_count": null,
      "metadata": {
        "id": "hZWHFpHizNcf"
      },
      "outputs": [],
      "source": [
        "valores1 = df_china['valor_exportacao'].values"
      ]
    },
    {
      "cell_type": "code",
      "execution_count": null,
      "metadata": {
        "id": "S42h9Rx0zNcg"
      },
      "outputs": [],
      "source": [
        "valores2 = df_uk['valor_exportacao'].values"
      ]
    },
    {
      "cell_type": "code",
      "execution_count": null,
      "metadata": {
        "id": "uWOhETxCzNcg"
      },
      "outputs": [],
      "source": [
        "anos = df_china.ano_exportacao.values"
      ]
    },
    {
      "cell_type": "code",
      "execution_count": null,
      "metadata": {
        "id": "PtVsP042zNch"
      },
      "outputs": [],
      "source": [
        "df_comparacao = pd.DataFrame([valores1, valores2], columns=anos)"
      ]
    },
    {
      "cell_type": "code",
      "execution_count": null,
      "metadata": {
        "id": "mda6_0kgzNch"
      },
      "outputs": [],
      "source": [
        "df_comparacao = df_comparacao.reset_index()"
      ]
    },
    {
      "cell_type": "code",
      "execution_count": null,
      "metadata": {
        "id": "gH0S4B0fzNci"
      },
      "outputs": [],
      "source": [
        "df_comparacao = df_comparacao.T"
      ]
    },
    {
      "cell_type": "code",
      "execution_count": null,
      "metadata": {
        "id": "bvVuZ3skzNci",
        "outputId": "a2641ae2-aed5-411f-9760-4ab037d7aae5"
      },
      "outputs": [
        {
          "data": {
            "text/html": [
              "<div>\n",
              "<style scoped>\n",
              "    .dataframe tbody tr th:only-of-type {\n",
              "        vertical-align: middle;\n",
              "    }\n",
              "\n",
              "    .dataframe tbody tr th {\n",
              "        vertical-align: top;\n",
              "    }\n",
              "\n",
              "    .dataframe thead th {\n",
              "        text-align: right;\n",
              "    }\n",
              "</style>\n",
              "<table border=\"1\" class=\"dataframe\">\n",
              "  <thead>\n",
              "    <tr style=\"text-align: right;\">\n",
              "      <th></th>\n",
              "      <th>0</th>\n",
              "      <th>1</th>\n",
              "    </tr>\n",
              "  </thead>\n",
              "  <tbody>\n",
              "    <tr>\n",
              "      <th>index</th>\n",
              "      <td>0.000000e+00</td>\n",
              "      <td>1.000000e+00</td>\n",
              "    </tr>\n",
              "    <tr>\n",
              "      <th>1997</th>\n",
              "      <td>7.081203e+08</td>\n",
              "      <td>9.216552e+09</td>\n",
              "    </tr>\n",
              "    <tr>\n",
              "      <th>1998</th>\n",
              "      <td>5.903727e+08</td>\n",
              "      <td>7.924273e+09</td>\n",
              "    </tr>\n",
              "    <tr>\n",
              "      <th>1999</th>\n",
              "      <td>3.204169e+08</td>\n",
              "      <td>7.468263e+09</td>\n",
              "    </tr>\n",
              "    <tr>\n",
              "      <th>2000</th>\n",
              "      <td>5.615154e+08</td>\n",
              "      <td>7.497251e+09</td>\n",
              "    </tr>\n",
              "    <tr>\n",
              "      <th>2001</th>\n",
              "      <td>8.891784e+08</td>\n",
              "      <td>8.324472e+09</td>\n",
              "    </tr>\n",
              "    <tr>\n",
              "      <th>2002</th>\n",
              "      <td>1.356534e+09</td>\n",
              "      <td>8.334144e+09</td>\n",
              "    </tr>\n",
              "    <tr>\n",
              "      <th>2003</th>\n",
              "      <td>2.260792e+09</td>\n",
              "      <td>1.050010e+10</td>\n",
              "    </tr>\n",
              "    <tr>\n",
              "      <th>2004</th>\n",
              "      <td>2.962703e+09</td>\n",
              "      <td>1.270426e+10</td>\n",
              "    </tr>\n",
              "    <tr>\n",
              "      <th>2005</th>\n",
              "      <td>3.082241e+09</td>\n",
              "      <td>1.329330e+10</td>\n",
              "    </tr>\n",
              "    <tr>\n",
              "      <th>2006</th>\n",
              "      <td>3.780995e+09</td>\n",
              "      <td>1.448689e+10</td>\n",
              "    </tr>\n",
              "    <tr>\n",
              "      <th>2007</th>\n",
              "      <td>4.673113e+09</td>\n",
              "      <td>1.921900e+10</td>\n",
              "    </tr>\n",
              "    <tr>\n",
              "      <th>2008</th>\n",
              "      <td>7.928870e+09</td>\n",
              "      <td>2.201329e+10</td>\n",
              "    </tr>\n",
              "    <tr>\n",
              "      <th>2009</th>\n",
              "      <td>8.914003e+09</td>\n",
              "      <td>1.741395e+10</td>\n",
              "    </tr>\n",
              "    <tr>\n",
              "      <th>2010</th>\n",
              "      <td>1.099991e+10</td>\n",
              "      <td>1.864004e+10</td>\n",
              "    </tr>\n",
              "    <tr>\n",
              "      <th>2011</th>\n",
              "      <td>1.649879e+10</td>\n",
              "      <td>2.211362e+10</td>\n",
              "    </tr>\n",
              "    <tr>\n",
              "      <th>2012</th>\n",
              "      <td>1.797450e+10</td>\n",
              "      <td>2.078603e+10</td>\n",
              "    </tr>\n",
              "    <tr>\n",
              "      <th>2013</th>\n",
              "      <td>2.288041e+10</td>\n",
              "      <td>2.041408e+10</td>\n",
              "    </tr>\n",
              "    <tr>\n",
              "      <th>2014</th>\n",
              "      <td>2.206413e+10</td>\n",
              "      <td>1.998742e+10</td>\n",
              "    </tr>\n",
              "    <tr>\n",
              "      <th>2015</th>\n",
              "      <td>2.126353e+10</td>\n",
              "      <td>1.689094e+10</td>\n",
              "    </tr>\n",
              "    <tr>\n",
              "      <th>2016</th>\n",
              "      <td>2.083086e+10</td>\n",
              "      <td>1.541543e+10</td>\n",
              "    </tr>\n",
              "    <tr>\n",
              "      <th>2017</th>\n",
              "      <td>2.657662e+10</td>\n",
              "      <td>1.567330e+10</td>\n",
              "    </tr>\n",
              "    <tr>\n",
              "      <th>2018</th>\n",
              "      <td>3.544491e+10</td>\n",
              "      <td>1.655791e+10</td>\n",
              "    </tr>\n",
              "    <tr>\n",
              "      <th>2019</th>\n",
              "      <td>3.096083e+10</td>\n",
              "      <td>1.548961e+10</td>\n",
              "    </tr>\n",
              "    <tr>\n",
              "      <th>2020</th>\n",
              "      <td>3.401089e+10</td>\n",
              "      <td>1.500611e+10</td>\n",
              "    </tr>\n",
              "    <tr>\n",
              "      <th>2021</th>\n",
              "      <td>3.893837e+10</td>\n",
              "      <td>1.640163e+10</td>\n",
              "    </tr>\n",
              "  </tbody>\n",
              "</table>\n",
              "</div>"
            ],
            "text/plain": [
              "                  0             1\n",
              "index  0.000000e+00  1.000000e+00\n",
              "1997   7.081203e+08  9.216552e+09\n",
              "1998   5.903727e+08  7.924273e+09\n",
              "1999   3.204169e+08  7.468263e+09\n",
              "2000   5.615154e+08  7.497251e+09\n",
              "2001   8.891784e+08  8.324472e+09\n",
              "2002   1.356534e+09  8.334144e+09\n",
              "2003   2.260792e+09  1.050010e+10\n",
              "2004   2.962703e+09  1.270426e+10\n",
              "2005   3.082241e+09  1.329330e+10\n",
              "2006   3.780995e+09  1.448689e+10\n",
              "2007   4.673113e+09  1.921900e+10\n",
              "2008   7.928870e+09  2.201329e+10\n",
              "2009   8.914003e+09  1.741395e+10\n",
              "2010   1.099991e+10  1.864004e+10\n",
              "2011   1.649879e+10  2.211362e+10\n",
              "2012   1.797450e+10  2.078603e+10\n",
              "2013   2.288041e+10  2.041408e+10\n",
              "2014   2.206413e+10  1.998742e+10\n",
              "2015   2.126353e+10  1.689094e+10\n",
              "2016   2.083086e+10  1.541543e+10\n",
              "2017   2.657662e+10  1.567330e+10\n",
              "2018   3.544491e+10  1.655791e+10\n",
              "2019   3.096083e+10  1.548961e+10\n",
              "2020   3.401089e+10  1.500611e+10\n",
              "2021   3.893837e+10  1.640163e+10"
            ]
          },
          "execution_count": 177,
          "metadata": {},
          "output_type": "execute_result"
        }
      ],
      "source": [
        "df_comparacao"
      ]
    },
    {
      "cell_type": "code",
      "execution_count": null,
      "metadata": {
        "id": "0BoXzKRZzNcj"
      },
      "outputs": [],
      "source": [
        "df_comparacao.drop('index', axis=0, inplace=True)"
      ]
    },
    {
      "cell_type": "code",
      "execution_count": null,
      "metadata": {
        "id": "oPWZWi7MzNcj",
        "outputId": "3f3051a7-a9e9-40bd-c4db-5b6e71b882d8"
      },
      "outputs": [
        {
          "data": {
            "text/html": [
              "<div>\n",
              "<style scoped>\n",
              "    .dataframe tbody tr th:only-of-type {\n",
              "        vertical-align: middle;\n",
              "    }\n",
              "\n",
              "    .dataframe tbody tr th {\n",
              "        vertical-align: top;\n",
              "    }\n",
              "\n",
              "    .dataframe thead th {\n",
              "        text-align: right;\n",
              "    }\n",
              "</style>\n",
              "<table border=\"1\" class=\"dataframe\">\n",
              "  <thead>\n",
              "    <tr style=\"text-align: right;\">\n",
              "      <th></th>\n",
              "      <th>0</th>\n",
              "      <th>1</th>\n",
              "    </tr>\n",
              "  </thead>\n",
              "  <tbody>\n",
              "    <tr>\n",
              "      <th>1997</th>\n",
              "      <td>7.081203e+08</td>\n",
              "      <td>9.216552e+09</td>\n",
              "    </tr>\n",
              "    <tr>\n",
              "      <th>1998</th>\n",
              "      <td>5.903727e+08</td>\n",
              "      <td>7.924273e+09</td>\n",
              "    </tr>\n",
              "    <tr>\n",
              "      <th>1999</th>\n",
              "      <td>3.204169e+08</td>\n",
              "      <td>7.468263e+09</td>\n",
              "    </tr>\n",
              "    <tr>\n",
              "      <th>2000</th>\n",
              "      <td>5.615154e+08</td>\n",
              "      <td>7.497251e+09</td>\n",
              "    </tr>\n",
              "    <tr>\n",
              "      <th>2001</th>\n",
              "      <td>8.891784e+08</td>\n",
              "      <td>8.324472e+09</td>\n",
              "    </tr>\n",
              "    <tr>\n",
              "      <th>2002</th>\n",
              "      <td>1.356534e+09</td>\n",
              "      <td>8.334144e+09</td>\n",
              "    </tr>\n",
              "    <tr>\n",
              "      <th>2003</th>\n",
              "      <td>2.260792e+09</td>\n",
              "      <td>1.050010e+10</td>\n",
              "    </tr>\n",
              "    <tr>\n",
              "      <th>2004</th>\n",
              "      <td>2.962703e+09</td>\n",
              "      <td>1.270426e+10</td>\n",
              "    </tr>\n",
              "    <tr>\n",
              "      <th>2005</th>\n",
              "      <td>3.082241e+09</td>\n",
              "      <td>1.329330e+10</td>\n",
              "    </tr>\n",
              "    <tr>\n",
              "      <th>2006</th>\n",
              "      <td>3.780995e+09</td>\n",
              "      <td>1.448689e+10</td>\n",
              "    </tr>\n",
              "    <tr>\n",
              "      <th>2007</th>\n",
              "      <td>4.673113e+09</td>\n",
              "      <td>1.921900e+10</td>\n",
              "    </tr>\n",
              "    <tr>\n",
              "      <th>2008</th>\n",
              "      <td>7.928870e+09</td>\n",
              "      <td>2.201329e+10</td>\n",
              "    </tr>\n",
              "    <tr>\n",
              "      <th>2009</th>\n",
              "      <td>8.914003e+09</td>\n",
              "      <td>1.741395e+10</td>\n",
              "    </tr>\n",
              "    <tr>\n",
              "      <th>2010</th>\n",
              "      <td>1.099991e+10</td>\n",
              "      <td>1.864004e+10</td>\n",
              "    </tr>\n",
              "    <tr>\n",
              "      <th>2011</th>\n",
              "      <td>1.649879e+10</td>\n",
              "      <td>2.211362e+10</td>\n",
              "    </tr>\n",
              "    <tr>\n",
              "      <th>2012</th>\n",
              "      <td>1.797450e+10</td>\n",
              "      <td>2.078603e+10</td>\n",
              "    </tr>\n",
              "    <tr>\n",
              "      <th>2013</th>\n",
              "      <td>2.288041e+10</td>\n",
              "      <td>2.041408e+10</td>\n",
              "    </tr>\n",
              "    <tr>\n",
              "      <th>2014</th>\n",
              "      <td>2.206413e+10</td>\n",
              "      <td>1.998742e+10</td>\n",
              "    </tr>\n",
              "    <tr>\n",
              "      <th>2015</th>\n",
              "      <td>2.126353e+10</td>\n",
              "      <td>1.689094e+10</td>\n",
              "    </tr>\n",
              "    <tr>\n",
              "      <th>2016</th>\n",
              "      <td>2.083086e+10</td>\n",
              "      <td>1.541543e+10</td>\n",
              "    </tr>\n",
              "    <tr>\n",
              "      <th>2017</th>\n",
              "      <td>2.657662e+10</td>\n",
              "      <td>1.567330e+10</td>\n",
              "    </tr>\n",
              "    <tr>\n",
              "      <th>2018</th>\n",
              "      <td>3.544491e+10</td>\n",
              "      <td>1.655791e+10</td>\n",
              "    </tr>\n",
              "    <tr>\n",
              "      <th>2019</th>\n",
              "      <td>3.096083e+10</td>\n",
              "      <td>1.548961e+10</td>\n",
              "    </tr>\n",
              "    <tr>\n",
              "      <th>2020</th>\n",
              "      <td>3.401089e+10</td>\n",
              "      <td>1.500611e+10</td>\n",
              "    </tr>\n",
              "    <tr>\n",
              "      <th>2021</th>\n",
              "      <td>3.893837e+10</td>\n",
              "      <td>1.640163e+10</td>\n",
              "    </tr>\n",
              "  </tbody>\n",
              "</table>\n",
              "</div>"
            ],
            "text/plain": [
              "                 0             1\n",
              "1997  7.081203e+08  9.216552e+09\n",
              "1998  5.903727e+08  7.924273e+09\n",
              "1999  3.204169e+08  7.468263e+09\n",
              "2000  5.615154e+08  7.497251e+09\n",
              "2001  8.891784e+08  8.324472e+09\n",
              "2002  1.356534e+09  8.334144e+09\n",
              "2003  2.260792e+09  1.050010e+10\n",
              "2004  2.962703e+09  1.270426e+10\n",
              "2005  3.082241e+09  1.329330e+10\n",
              "2006  3.780995e+09  1.448689e+10\n",
              "2007  4.673113e+09  1.921900e+10\n",
              "2008  7.928870e+09  2.201329e+10\n",
              "2009  8.914003e+09  1.741395e+10\n",
              "2010  1.099991e+10  1.864004e+10\n",
              "2011  1.649879e+10  2.211362e+10\n",
              "2012  1.797450e+10  2.078603e+10\n",
              "2013  2.288041e+10  2.041408e+10\n",
              "2014  2.206413e+10  1.998742e+10\n",
              "2015  2.126353e+10  1.689094e+10\n",
              "2016  2.083086e+10  1.541543e+10\n",
              "2017  2.657662e+10  1.567330e+10\n",
              "2018  3.544491e+10  1.655791e+10\n",
              "2019  3.096083e+10  1.548961e+10\n",
              "2020  3.401089e+10  1.500611e+10\n",
              "2021  3.893837e+10  1.640163e+10"
            ]
          },
          "execution_count": 182,
          "metadata": {},
          "output_type": "execute_result"
        }
      ],
      "source": [
        "df_comparacao"
      ]
    },
    {
      "cell_type": "code",
      "execution_count": null,
      "metadata": {
        "id": "suNXn-hKzNcj",
        "outputId": "48a081a2-f54e-4327-db02-34499b1fdb1d"
      },
      "outputs": [
        {
          "data": {
            "image/png": "[encoded data removed]",
            "text/plain": [
              "<Figure size 864x576 with 1 Axes>"
            ]
          },
          "metadata": {
            "needs_background": "light"
          },
          "output_type": "display_data"
        }
      ],
      "source": [
        "fig, ax = plt.subplots()\n",
        "df_comparacao.plot(kind='bar', figsize=(12,8), legend=True, color=['red','blue'], ax=ax, width = 0.75)\n",
        "ax.set_ylabel('Valor em Bilhões($)', fontsize=15)\n",
        "ax.set_title('Valores de exportação do agronegocio para a China e União Europeia', fontsize=20)\n",
        "ax.legend([\"CHINA\", \"UE\"]);"
      ]
    },
    {
      "cell_type": "code",
      "execution_count": null,
      "metadata": {
        "id": "QCdN6wBRzNck"
      },
      "outputs": [],
      "source": [
        ""
      ]
    }
  ],
  "metadata": {
    "interpreter": {
      "hash": "916dbcbb3f70747c44a77c7bcd40155683ae19c65e1c03b4aa3499c5328201f1"
    },
    "kernelspec": {
      "display_name": "Python 3.9.2 64-bit",
      "language": "python",
      "name": "python3"
    },
    "language_info": {
      "codemirror_mode": {
        "name": "ipython",
        "version": 3
      },
      "file_extension": ".py",
      "mimetype": "text/x-python",
      "name": "python",
      "nbconvert_exporter": "python",
      "pygments_lexer": "ipython3",
      "version": "3.9.2"
    },
    "orig_nbformat": 4,
    "colab": {
      "name": "analise_pib_uf.ipynb",
      "provenance": []
    }
  },
  "nbformat": 4,
  "nbformat_minor": 0
}